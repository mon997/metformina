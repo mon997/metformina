{
 "cells": [
  {
   "cell_type": "code",
   "execution_count": 1,
   "id": "d03cf414-ee41-4a47-baa5-45a76fa4665a",
   "metadata": {},
   "outputs": [],
   "source": [
    "import numpy as np\n",
    "from scipy.integrate import odeint\n",
    "import matplotlib.pyplot as plt"
   ]
  },
  {
   "cell_type": "code",
   "execution_count": 9,
   "id": "bb0dda45-2e66-4477-b64c-3b62877ba244",
   "metadata": {},
   "outputs": [],
   "source": [
    "kgo= 0.000188    \n",
    "kgg= 0.000185  \n",
    "kgl= 0.458          \n",
    "kls= 0.910          \n",
    "ksl= 0.00101   \n",
    "kpg= 4.13           \n",
    "kso= 0.509         \n",
    "x1 = 500 \n",
    "x2 = 400 \n",
    "x4 = 200   \n",
    "\n",
    "def deriv(x1,t):\n",
    "    return -x1*kgg -x1*kgo"
   ]
  },
  {
   "cell_type": "code",
   "execution_count": null,
   "id": "9838fcbd-762e-4e29-9ecc-d329a2663d42",
   "metadata": {},
   "outputs": [],
   "source": [
    "kgo= 0.000188    \n",
    "kgg= 0.000185  \n",
    "kgl= 0.458          \n",
    "kls= 0.910          \n",
    "ksl= 0.00101   \n",
    "kpg= 4.13           \n",
    "kso= 0.509         \n",
    "x1 = 500 \n",
    "x2 = 400 \n",
    "x4 = 200   \n",
    "\n",
    "  dx1dt = -x1*kgg -x1*kgo    \n",
    "    dx2dt = x1*kgg -x2*kgl + x4*kpg"
   ]
  },
  {
   "cell_type": "code",
   "execution_count": null,
   "id": "4f7981b5-ba4c-4525-a644-f4aef64a3692",
   "metadata": {},
   "outputs": [],
   "source": []
  },
  {
   "cell_type": "code",
   "execution_count": null,
   "id": "73033597-7dec-4e3d-86ab-0f1bc7e9a181",
   "metadata": {},
   "outputs": [],
   "source": []
  },
  {
   "cell_type": "code",
   "execution_count": null,
   "id": "75d114c4-22f7-44da-8e77-d8892c391649",
   "metadata": {},
   "outputs": [],
   "source": []
  },
  {
   "cell_type": "code",
   "execution_count": null,
   "id": "9456f5f0-8ccc-404a-9452-914354bf8ae2",
   "metadata": {},
   "outputs": [],
   "source": []
  }
 ],
 "metadata": {
  "kernelspec": {
   "display_name": "Python 3",
   "language": "python",
   "name": "python3"
  },
  "language_info": {
   "codemirror_mode": {
    "name": "ipython",
    "version": 3
   },
   "file_extension": ".py",
   "mimetype": "text/x-python",
   "name": "python",
   "nbconvert_exporter": "python",
   "pygments_lexer": "ipython3",
   "version": "3.8.8"
  }
 },
 "nbformat": 4,
 "nbformat_minor": 5
}
