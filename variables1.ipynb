{
 "cells": [
  {
   "cell_type": "code",
   "execution_count": 25,
   "id": "ec88b88f-1923-49ac-8b8b-5b146ba048f4",
   "metadata": {},
   "outputs": [],
   "source": [
    "import numpy\n",
    "import matplotlib.pyplot as plt\n",
    "import scipy.integrate"
   ]
  },
  {
   "cell_type": "code",
   "execution_count": 27,
   "id": "6f22febc-c4fd-43bd-b5b5-be5f00ba3e9a",
   "metadata": {},
   "outputs": [],
   "source": [
    "def PK_model(y,t,kgg,kgo,kgl,kls,ksl,ksg,kso):       \n",
    "    A,B,C,D=y  \n",
    "    \n",
    "    dA_dt = (-A*kgg+kgo)-DosisI\n",
    "    dB_dt = (A*kgg+D*ksg-B*kgl)\n",
    "    dC_dt = (B*kgl+D*ksl-C*kls)\n",
    "    dD_dt = (C*kls- D*ksl+ksg+kso)\n",
    "    \n",
    "    return([dA_dt, dB_dt, dC_dt, dD_dt])  \n",
    "\n",
    "# Condiciones iniciales  \n",
    "A0 = 850  \n",
    "B0 = 750 \n",
    "C0 = 550\n",
    "D0 = 450\n",
    "DosisI = 850\n",
    "\n",
    "kgo= 1.88**-3      # Eliminacion fecal\n",
    "kgg= 1.85**-3      # Metformina  GI lumen a GI wall\n",
    "kgl= 0.458         # Metformina GI wall a higado \n",
    "kls= 0.910         # Metformina higado a periferia \n",
    "ksl= 1.01**-2      # Metformina periferia a higado \n",
    "ksg= 4.13          # Metformina periferia a GI wall  \n",
    "kso= 0.509         # Eliminacion por orina\n",
    "\n",
    "# Tiempo\n",
    "t = numpy.linspace(0, 24,60)  \n",
    "\n",
    "# Resultados  \n",
    "solution = scipy.integrate.odeint(PK_model, [A0, B0, C0, D0], t, args=(kgg,kgo,kgl,kls,ksl,ksg,kso)) \n",
    "solution =numpy.array(solution)"
   ]
  },
  {
   "cell_type": "code",
   "execution_count": null,
   "id": "c56d8002-e7e3-4e12-bb09-6e46590941b9",
   "metadata": {},
   "outputs": [],
   "source": []
  },
  {
   "cell_type": "code",
   "execution_count": null,
   "id": "802aa138-fb12-4958-a4aa-077b7cd31c23",
   "metadata": {},
   "outputs": [],
   "source": []
  },
  {
   "cell_type": "code",
   "execution_count": null,
   "id": "cd25428c-af37-4d45-9fce-7a7158e5946e",
   "metadata": {},
   "outputs": [],
   "source": []
  }
 ],
 "metadata": {
  "kernelspec": {
   "display_name": "Python 3",
   "language": "python",
   "name": "python3"
  },
  "language_info": {
   "codemirror_mode": {
    "name": "ipython",
    "version": 3
   },
   "file_extension": ".py",
   "mimetype": "text/x-python",
   "name": "python",
   "nbconvert_exporter": "python",
   "pygments_lexer": "ipython3",
   "version": "3.8.8"
  }
 },
 "nbformat": 4,
 "nbformat_minor": 5
}
