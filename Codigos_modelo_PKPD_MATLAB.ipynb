{
 "cells": [
  {
   "cell_type": "code",
   "execution_count": null,
   "id": "42acfd83-5afd-45e8-8a29-7f651b8025e7",
   "metadata": {
    "tags": []
   },
   "outputs": [],
   "source": [
    "### Modelo PK-PD"
   ]
  },
  {
   "cell_type": "code",
   "execution_count": null,
   "id": "1b0c9355-98dc-497f-b07e-901dcd2ab529",
   "metadata": {},
   "outputs": [],
   "source": [
    "%% Dosis de metformina \n",
    "Dosis_metformina= 850;      %Dosis inicial metformina (mg)\n",
    "\n",
    "%% Niveles de glucosa en el cuerpo sin metformina \n",
    "glucose_intestino= 250;     %Niveles de glucosa en intestino\n",
    "glucose_higado= 234;        %Niveles de glucosa en higado\n",
    "glucose_periferia= 238;     %Niveles de glucosa en periferia\n",
    "\n",
    "glucosa_totalSM =(glucose_intestino+glucose_higado+glucose_periferia)/3; %promedio de glucosa inicial\n",
    "\n",
    "%% Umbrales de transferencia y eliminacion de metformina en compartimientos (modelo PK)ARTICULO\n",
    "kgo= 1.88*exp(-3);  %eliminacion fecal\n",
    "kgg= 1.85*exp(-3);  %metformina  GI lumen a GI wall\n",
    "kgl= 0.458;         %metformina GI wall a higado \n",
    "kls= 0.910;         %metformina higado a periferia \n",
    " %ksl= metformina periferia a higado \n",
    " %ksl= metformina periferia a GI wall  \n",
    "kso= 0.509;         %eliminacion por orina\n",
    "\n",
    "%% Coeficientes modelo PK-PD ARTICULO 1\n",
    "kin= 2.08;          %zero-order rate of glucose input into the body\n",
    "kout= 5.42*exp(-3); %first-order rate of glucose utilization\n",
    "\n",
    "ConI = Dosis_metformina*(kgg+kgo);    %aumento en el uso de glucosa en intestino\n",
    "EmaxI= 0.486;   %Efecto maximo de metformina intestino\n",
    "ECon50I= 431;   %Concentracion de metformina que produce 50% del efecto maximo (ug)\n",
    "shI=2;          %Shape factor\n",
    "\n",
    "ConH = Dosis_metformina*kls;    %aumento en el uso de glucosa en higado\n",
    "ImaxH= 0.378;   %Efecto maximo de metformina higado\n",
    "ICon50H= 521;   %Concentracion de metformina que produce 50% del efecto maximo (ug)\n",
    "shH=5;          %Shape factor\n",
    "\n",
    "ConP = Dosis_metformina*kso;    %aumento en el uso de glucosa en periferia\n",
    "EmaxP= 0.148;   %Efecto maximo de metformina periferia\n",
    "ECon50P = 1024; %Concentracion de metformina que produce 50% del efecto maximo (ug)\n",
    "shP=5;          %Shape factor\n",
    "\n",
    "%% Modelo PK-PD (= weight coefficient metformina)ARTICULO 1\n",
    "WC_Instestino  = (EmaxI*(ConI*exp(shI)))/(ECon50I*exp(shI))+ ConI; \n",
    "WC_Higado = (ImaxH*(ConH*exp(shH)))/((ICon50H*exp(shH))+ ConH);\n",
    "WC_Periferia = (EmaxP*(ConP*exp(shP)))/((ECon50P*exp(shP))+ ConP);\n",
    "\n",
    "%% Tasa de consumo de glucosa con metformina ARTICULO 2\n",
    "tglucose_intestino= 0.76; %Tasa de consumo de glucosa sin metformina intestino\n",
    "RPKPD_Intestino=(1+WC_Instestino)*tglucose_intestino; %Tasa de uso de glucosa con metformina\n",
    "\n",
    "tglucose_higado= 0.50; %Tasa de consumo de glucosa sin metformina higado\n",
    "RPKPD_Higado=((1-WC_Higado)*tglucose_higado); %Tasa de uso de glucosa cuando hay metformina\n",
    "\n",
    "tglucose_periferia= 0.76; %Tasa de consumo de glucosa sin metformina periferia\n",
    "RPKPD_Periferia=((1+WC_Periferia)*tglucose_periferia); %Tasa de uso de glucosa con metformina\n",
    "\n",
    "%% Niveles de glucosa con metformina NOSOTROS\n",
    "\n",
    "RPKPD_Intestino1000=RPKPD_Intestino/1000; %Tasa de uso de glucosa con metformina entre 1000\n",
    "tglucose_intestinoM=RPKPD_Intestino1000*glucose_intestino; %Cantida (niveles) de glucosa que disminuye cuando hay metformina\n",
    "\n",
    "RPKPD_Higado1000=RPKPD_Higado/1000; %Tasa de uso de glucosa con metformina entre 1000\n",
    "tglucose_higadoM=RPKPD_Higado1000*glucose_higado; %Cantida (niveles) de glucosa que disminuye cuando hay metformina\n",
    "\n",
    "RPKPD_Periferia1000=RPKPD_Periferia/1000; %Tasa de uso de glucosa con metformina entre 1000\n",
    "tglucose_periferiaM=RPKPD_Periferia1000*glucose_periferia; %Cantida (niveles) de glucosa que disminuye cuando hay metformina\n",
    "\n",
    "glucose_totalintestino= glucose_intestino-tglucose_intestinoM; %Glucosa total en intestino con metformina\n",
    "glucose_totalhigado= glucose_higado-tglucose_higadoM; %Higado\n",
    "glucose_totalperiferia= glucose_periferia-tglucose_periferiaM; %Periferia\n",
    "glucosa_totalCM=(glucose_intestino+glucose_higado+glucose_periferia)/3; %promedio de glucosa final\n",
    "\n",
    "\n",
    "R= glucosa_totalSM-glucosa_totalCM; %Cambio relacionado con la metformina en la concentración de glucosa\n",
    "\n",
    "%% Evolución temporal del efecto hipoglucemiante de la metformina (PK-PD)\n",
    "%Poner FOR para el tiempo\n",
    "%Poner WHILE para niveles de glucosa y cuando bajen se toma la otra\n",
    "%pastilla\n",
    "dR = kin*(tglucose_higado-RPKPD_Higado)- kout*(1+RPKPD_Intestino+RPKPD_Periferia)*R;\n",
    "\n",
    "%Falta hacer la derivada para graficar\n",
    "%% -------------------------------------------------------------------------\n"
   ]
  },
  {
   "cell_type": "code",
   "execution_count": null,
   "id": "0e6f79cc-cdbd-4df9-929b-d2095a542fb4",
   "metadata": {
    "tags": []
   },
   "outputs": [],
   "source": [
    "dR/dt  kinI  ILiver)  kout1 \u0004 SGI \u0004 SS)R"
   ]
  }
 ],
 "metadata": {
  "kernelspec": {
   "display_name": "Python 3",
   "language": "python",
   "name": "python3"
  },
  "language_info": {
   "codemirror_mode": {
    "name": "ipython",
    "version": 3
   },
   "file_extension": ".py",
   "mimetype": "text/x-python",
   "name": "python",
   "nbconvert_exporter": "python",
   "pygments_lexer": "ipython3",
   "version": "3.8.8"
  }
 },
 "nbformat": 4,
 "nbformat_minor": 5
}
