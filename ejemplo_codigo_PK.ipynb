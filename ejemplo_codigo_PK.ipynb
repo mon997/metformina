{
 "cells": [
  {
   "cell_type": "code",
   "execution_count": 2,
   "id": "b4f28023-2dae-4a23-865a-acaa30f3a564",
   "metadata": {},
   "outputs": [],
   "source": [
    "# EJEMPLO DE MODELO PK\n",
    "\n",
    "# This script integrates a set of differential equations that   \n",
    "# describe the pharmacokinetic:\n",
    "#\n",
    "#\n",
    "#     kabs            k1           kon\n",
    "#  I  --->   Iblood  ----> Itissue ---->  EI \n",
    "#            |       <----         <----\n",
    "#            | kout   k2           koff\n",
    "#           \\/\n",
    "#\n",
    "#\n",
    "# kout = sum of the rates of elimination and metabolism.\n",
    "# kon  = \n",
    "# Concentrations are in mol/L, and time is in seconds.\n",
    "#\n",
    "# All species are described in the system vector X:\n",
    "#   X = [Iblood, Itissue, f]\n",
    "#\n",
    "# All rates are described in the rate vector R:\n",
    "#   R = [kabs, kout, k1, k2, kon, koff]\n",
    "#\n",
    "#   where [E] = (1-f)Etot and [EI] = f*Etot\n",
    "#     and Etot is the total concentration of target protein"
   ]
  },
  {
   "cell_type": "code",
   "execution_count": null,
   "id": "66030ee6-c357-45af-a8da-cf6c4ff49c87",
   "metadata": {},
   "outputs": [],
   "source": [
    "import numpy as np\n",
    "import pylab as p\n",
    "import matplotlib.pyplot as plt\n",
    "from scipy import integrate"
   ]
  },
  {
   "cell_type": "code",
   "execution_count": 4,
   "id": "68a64033-dbf0-4d01-8dc2-8b0e578719c4",
   "metadata": {},
   "outputs": [
    {
     "name": "stdout",
     "output_type": "stream",
     "text": [
      "Integration successful.\n",
      "[[0.00000000e+00 0.00000000e+00 0.00000000e+00]\n",
      " [9.86467253e-06 1.08130766e-10 8.55869102e-03]\n",
      " [9.77972531e-06 1.16843239e-10 1.70535144e-02]\n",
      " ...\n",
      " [1.39625811e-06 1.39699151e-05 9.99928415e-01]\n",
      " [1.38599063e-06 1.38672651e-05 9.99927884e-01]\n",
      " [1.37582105e-06 1.37655943e-05 9.99927349e-01]]\n"
     ]
    },
    {
     "data": {
      "image/png": "[encoded data removed]",
      "text/plain": [
       "<Figure size 432x288 with 1 Axes>"
      ]
     },
     "metadata": {
      "needs_background": "light"
     },
     "output_type": "display_data"
    }
   ],
   "source": [
    "# set time parameters of interest\n",
    "tmin = 0      # first time point of interest\n",
    "tmax = 86400  # last time point of interest\n",
    "tres = 1000    # time resolution of output\n",
    "\n",
    "# set dose profile\n",
    "dose_conc = [1,0.75,0.40] # in M\n",
    "dose_time = [0,5400,10800] # in s\n",
    "\n",
    "I0 = 1  # initial concentration of unabsorbed compound\n",
    "Etot = 1  # total concentration of protein \n",
    "X0 = np.array([0,0,0])\n",
    "R = np.array([0.0001,0.05,10,1,1E6,0.001])\n",
    "\n",
    "# functions\n",
    "\n",
    "def I_of_t (t):\n",
    "    isum = 0\n",
    "    for dt, conc in zip(dose_time, dose_conc):\n",
    "        isum += step(t-dt)*conc*np.exp(-R[0]*(t-dt))\n",
    "    return isum\n",
    "\n",
    "def step(x):\n",
    "    return 1 * (x > 0)\n",
    "\n",
    "def dIblood_dt (X,t):\n",
    "    dIb_dt = R[0]*I_of_t(t) - X[0]*(R[1] + R[2]) + X[1]*R[3]\n",
    "    return dIb_dt\n",
    "\n",
    "def dItissue_dt (X,t):\n",
    "    dIt_dt = R[2]*X[0] - X[1]*(R[3] + (1.-X[2])*Etot*R[4]) + X[2]*R[5]*Etot\n",
    "    return dIt_dt\n",
    "\n",
    "def df_dt (X,t):\n",
    "    df_dt = X[1]*R[4] - X[2]*(X[1]*R[4] + R[5])\n",
    "    return df_dt\n",
    "\n",
    "def dX_dt(X,t):\n",
    "    return np.array([dIblood_dt(X,t), dItissue_dt(X,t), df_dt(X,t)])\n",
    "\n",
    "t = np.linspace(tmin,tmax,tres)\n",
    "plt.plot(t,I_of_t(t))\n",
    "plt.xlabel(\"Time\")\n",
    "plt.ylabel(\"Unabsorbed drug concentration\")\n",
    "p.savefig('I_of_t.png', bbox_inches='tight')\n",
    "\n",
    "X, infodict = integrate.odeint(dX_dt,X0,t,full_output=True);\n",
    "print(infodict['message'])\n",
    "print(X)\n",
    "\n",
    "plt.figure(1)\n",
    "plt.clf()\n",
    "plt.plot(t,X.T[0],'r')\n",
    "plt.xlabel(\"Time\")\n",
    "plt.ylabel(\"I_blood\")\n",
    "p.savefig('Iblood.png', bbox_inches='tight')\n",
    "\n",
    "plt.clf()\n",
    "plt.plot(t,X.T[1],'b')\n",
    "plt.xlabel(\"Time\")\n",
    "plt.ylabel(\"I_tissue\")\n",
    "p.savefig('Itissue.png', bbox_inches='tight')\n",
    "\n",
    "plt.clf()\n",
    "plt.plot(t,X.T[2],'g')\n",
    "plt.xlabel(\"Time\")\n",
    "plt.ylabel(\"Fraction of complex bound\")\n",
    "p.savefig('frac_bound.png', bbox_inches='tight')\n",
    "\n",
    "plt.clf()\n",
    "EI = Etot*X.T[2]  # get EI concentration as a function of time\n",
    "E = Etot*(1.-X.T[2])  # get free E concentration as a function of time\n",
    "plt.plot(t,EI,'g--')\n",
    "plt.xlabel(\"Time\")\n",
    "plt.ylabel(\"Bound complex concentration\")\n",
    "p.savefig('bound.png', bbox_inches='tight')"
   ]
  },
  {
   "cell_type": "code",
   "execution_count": null,
   "id": "97a4776a-6c91-4961-8518-760bf4e5612a",
   "metadata": {},
   "outputs": [],
   "source": []
  }
 ],
 "metadata": {
  "kernelspec": {
   "display_name": "Python 3",
   "language": "python",
   "name": "python3"
  },
  "language_info": {
   "codemirror_mode": {
    "name": "ipython",
    "version": 3
   },
   "file_extension": ".py",
   "mimetype": "text/x-python",
   "name": "python",
   "nbconvert_exporter": "python",
   "pygments_lexer": "ipython3",
   "version": "3.8.8"
  }
 },
 "nbformat": 4,
 "nbformat_minor": 5
}
